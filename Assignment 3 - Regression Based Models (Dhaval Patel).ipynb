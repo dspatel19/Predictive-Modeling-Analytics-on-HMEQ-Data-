{
 "cells": [
  {
   "cell_type": "markdown",
   "id": "bfe6acca",
   "metadata": {},
   "source": [
    "### Name: Dhaval Patel\n",
    "### Title: Assignment 3  - Regression Based Models"
   ]
  },
  {
   "cell_type": "code",
   "execution_count": 1,
   "id": "62d284c2",
   "metadata": {},
   "outputs": [],
   "source": [
    "import pandas as pd\n",
    "import numpy as np\n",
    "import math\n",
    "from operator import itemgetter\n",
    "\n",
    "import matplotlib.pyplot as plt\n",
    "import seaborn as sns\n",
    "sns.set()\n",
    "\n",
    "from sklearn.model_selection import train_test_split\n",
    "import sklearn.metrics as metrics\n",
    "\n",
    "\n",
    "from sklearn import tree\n",
    "from sklearn.tree import _tree\n",
    "\n",
    "from sklearn.ensemble import RandomForestRegressor \n",
    "from sklearn.ensemble import RandomForestClassifier \n",
    "\n",
    "from sklearn.ensemble import GradientBoostingRegressor \n",
    "from sklearn.ensemble import GradientBoostingClassifier\n",
    "\n",
    "from sklearn.linear_model import LinearRegression\n",
    "from sklearn.linear_model import LogisticRegression\n",
    "from sklearn.metrics import classification_report, confusion_matrix\n",
    "\n",
    "from mlxtend.feature_selection import SequentialFeatureSelector as SFS\n",
    "from mlxtend.plotting import plot_sequential_feature_selection as plot_sfs\n",
    "\n",
    "import warnings\n",
    "warnings.filterwarnings(\"ignore\")"
   ]
  },
  {
   "cell_type": "code",
   "execution_count": 2,
   "id": "051403e2",
   "metadata": {},
   "outputs": [
    {
     "data": {
      "text/html": [
       "<div>\n",
       "<style scoped>\n",
       "    .dataframe tbody tr th:only-of-type {\n",
       "        vertical-align: middle;\n",
       "    }\n",
       "\n",
       "    .dataframe tbody tr th {\n",
       "        vertical-align: top;\n",
       "    }\n",
       "\n",
       "    .dataframe thead th {\n",
       "        text-align: right;\n",
       "    }\n",
       "</style>\n",
       "<table border=\"1\" class=\"dataframe\">\n",
       "  <thead>\n",
       "    <tr style=\"text-align: right;\">\n",
       "      <th></th>\n",
       "      <th>0</th>\n",
       "      <th>1</th>\n",
       "      <th>2</th>\n",
       "      <th>3</th>\n",
       "      <th>4</th>\n",
       "    </tr>\n",
       "  </thead>\n",
       "  <tbody>\n",
       "    <tr>\n",
       "      <th>TARGET_BAD_FLAG</th>\n",
       "      <td>1.000000</td>\n",
       "      <td>1.000000</td>\n",
       "      <td>1.000000</td>\n",
       "      <td>1.000000</td>\n",
       "      <td>0.000000</td>\n",
       "    </tr>\n",
       "    <tr>\n",
       "      <th>TARGET_LOSS_AMT</th>\n",
       "      <td>641.000000</td>\n",
       "      <td>1109.000000</td>\n",
       "      <td>767.000000</td>\n",
       "      <td>1425.000000</td>\n",
       "      <td>NaN</td>\n",
       "    </tr>\n",
       "    <tr>\n",
       "      <th>LOAN</th>\n",
       "      <td>1100.000000</td>\n",
       "      <td>1300.000000</td>\n",
       "      <td>1500.000000</td>\n",
       "      <td>1500.000000</td>\n",
       "      <td>1700.000000</td>\n",
       "    </tr>\n",
       "    <tr>\n",
       "      <th>z_REASON_DebtCon</th>\n",
       "      <td>0.000000</td>\n",
       "      <td>0.000000</td>\n",
       "      <td>0.000000</td>\n",
       "      <td>0.000000</td>\n",
       "      <td>0.000000</td>\n",
       "    </tr>\n",
       "    <tr>\n",
       "      <th>z_REASON_HomeImp</th>\n",
       "      <td>1.000000</td>\n",
       "      <td>1.000000</td>\n",
       "      <td>1.000000</td>\n",
       "      <td>0.000000</td>\n",
       "      <td>1.000000</td>\n",
       "    </tr>\n",
       "    <tr>\n",
       "      <th>z_JOB_Mgr</th>\n",
       "      <td>0.000000</td>\n",
       "      <td>0.000000</td>\n",
       "      <td>0.000000</td>\n",
       "      <td>0.000000</td>\n",
       "      <td>0.000000</td>\n",
       "    </tr>\n",
       "    <tr>\n",
       "      <th>z_JOB_Office</th>\n",
       "      <td>0.000000</td>\n",
       "      <td>0.000000</td>\n",
       "      <td>0.000000</td>\n",
       "      <td>0.000000</td>\n",
       "      <td>1.000000</td>\n",
       "    </tr>\n",
       "    <tr>\n",
       "      <th>z_JOB_Other</th>\n",
       "      <td>1.000000</td>\n",
       "      <td>1.000000</td>\n",
       "      <td>1.000000</td>\n",
       "      <td>0.000000</td>\n",
       "      <td>0.000000</td>\n",
       "    </tr>\n",
       "    <tr>\n",
       "      <th>z_JOB_ProfExe</th>\n",
       "      <td>0.000000</td>\n",
       "      <td>0.000000</td>\n",
       "      <td>0.000000</td>\n",
       "      <td>0.000000</td>\n",
       "      <td>0.000000</td>\n",
       "    </tr>\n",
       "    <tr>\n",
       "      <th>z_JOB_Sales</th>\n",
       "      <td>0.000000</td>\n",
       "      <td>0.000000</td>\n",
       "      <td>0.000000</td>\n",
       "      <td>0.000000</td>\n",
       "      <td>0.000000</td>\n",
       "    </tr>\n",
       "    <tr>\n",
       "      <th>z_JOB_Self</th>\n",
       "      <td>0.000000</td>\n",
       "      <td>0.000000</td>\n",
       "      <td>0.000000</td>\n",
       "      <td>0.000000</td>\n",
       "      <td>0.000000</td>\n",
       "    </tr>\n",
       "    <tr>\n",
       "      <th>M_VALUE</th>\n",
       "      <td>0.000000</td>\n",
       "      <td>0.000000</td>\n",
       "      <td>0.000000</td>\n",
       "      <td>1.000000</td>\n",
       "      <td>0.000000</td>\n",
       "    </tr>\n",
       "    <tr>\n",
       "      <th>IMP_VALUE</th>\n",
       "      <td>39025.000000</td>\n",
       "      <td>68400.000000</td>\n",
       "      <td>16700.000000</td>\n",
       "      <td>76864.500000</td>\n",
       "      <td>112000.000000</td>\n",
       "    </tr>\n",
       "    <tr>\n",
       "      <th>M_MORTDUE</th>\n",
       "      <td>0.000000</td>\n",
       "      <td>0.000000</td>\n",
       "      <td>0.000000</td>\n",
       "      <td>1.000000</td>\n",
       "      <td>0.000000</td>\n",
       "    </tr>\n",
       "    <tr>\n",
       "      <th>IMP_MORTDUE</th>\n",
       "      <td>25860.000000</td>\n",
       "      <td>70053.000000</td>\n",
       "      <td>13500.000000</td>\n",
       "      <td>65019.000000</td>\n",
       "      <td>97800.000000</td>\n",
       "    </tr>\n",
       "    <tr>\n",
       "      <th>M_YOJ</th>\n",
       "      <td>0.000000</td>\n",
       "      <td>0.000000</td>\n",
       "      <td>0.000000</td>\n",
       "      <td>1.000000</td>\n",
       "      <td>0.000000</td>\n",
       "    </tr>\n",
       "    <tr>\n",
       "      <th>IMP_YOJ</th>\n",
       "      <td>10.500000</td>\n",
       "      <td>7.000000</td>\n",
       "      <td>4.000000</td>\n",
       "      <td>7.000000</td>\n",
       "      <td>3.000000</td>\n",
       "    </tr>\n",
       "    <tr>\n",
       "      <th>M_DEROG</th>\n",
       "      <td>0.000000</td>\n",
       "      <td>0.000000</td>\n",
       "      <td>0.000000</td>\n",
       "      <td>1.000000</td>\n",
       "      <td>0.000000</td>\n",
       "    </tr>\n",
       "    <tr>\n",
       "      <th>IMP_DEROG</th>\n",
       "      <td>0.000000</td>\n",
       "      <td>0.000000</td>\n",
       "      <td>0.000000</td>\n",
       "      <td>0.000000</td>\n",
       "      <td>0.000000</td>\n",
       "    </tr>\n",
       "    <tr>\n",
       "      <th>M_DELINQ</th>\n",
       "      <td>0.000000</td>\n",
       "      <td>0.000000</td>\n",
       "      <td>0.000000</td>\n",
       "      <td>1.000000</td>\n",
       "      <td>0.000000</td>\n",
       "    </tr>\n",
       "    <tr>\n",
       "      <th>IMP_DELINQ</th>\n",
       "      <td>0.000000</td>\n",
       "      <td>2.000000</td>\n",
       "      <td>0.000000</td>\n",
       "      <td>0.000000</td>\n",
       "      <td>0.000000</td>\n",
       "    </tr>\n",
       "    <tr>\n",
       "      <th>M_CLAGE</th>\n",
       "      <td>0.000000</td>\n",
       "      <td>0.000000</td>\n",
       "      <td>0.000000</td>\n",
       "      <td>1.000000</td>\n",
       "      <td>0.000000</td>\n",
       "    </tr>\n",
       "    <tr>\n",
       "      <th>IMP_CLAGE</th>\n",
       "      <td>94.366667</td>\n",
       "      <td>121.833333</td>\n",
       "      <td>149.466667</td>\n",
       "      <td>173.466667</td>\n",
       "      <td>93.333333</td>\n",
       "    </tr>\n",
       "    <tr>\n",
       "      <th>M_NINQ</th>\n",
       "      <td>0.000000</td>\n",
       "      <td>0.000000</td>\n",
       "      <td>0.000000</td>\n",
       "      <td>1.000000</td>\n",
       "      <td>0.000000</td>\n",
       "    </tr>\n",
       "    <tr>\n",
       "      <th>IMP_NINQ</th>\n",
       "      <td>1.000000</td>\n",
       "      <td>0.000000</td>\n",
       "      <td>1.000000</td>\n",
       "      <td>1.000000</td>\n",
       "      <td>0.000000</td>\n",
       "    </tr>\n",
       "    <tr>\n",
       "      <th>M_CLNO</th>\n",
       "      <td>0.000000</td>\n",
       "      <td>0.000000</td>\n",
       "      <td>0.000000</td>\n",
       "      <td>1.000000</td>\n",
       "      <td>0.000000</td>\n",
       "    </tr>\n",
       "    <tr>\n",
       "      <th>IMP_CLNO</th>\n",
       "      <td>9.000000</td>\n",
       "      <td>14.000000</td>\n",
       "      <td>10.000000</td>\n",
       "      <td>20.000000</td>\n",
       "      <td>14.000000</td>\n",
       "    </tr>\n",
       "    <tr>\n",
       "      <th>M_DEBTINC</th>\n",
       "      <td>1.000000</td>\n",
       "      <td>1.000000</td>\n",
       "      <td>1.000000</td>\n",
       "      <td>1.000000</td>\n",
       "      <td>1.000000</td>\n",
       "    </tr>\n",
       "    <tr>\n",
       "      <th>IMP_DEBTINC</th>\n",
       "      <td>34.818262</td>\n",
       "      <td>34.818262</td>\n",
       "      <td>34.818262</td>\n",
       "      <td>34.818262</td>\n",
       "      <td>34.818262</td>\n",
       "    </tr>\n",
       "  </tbody>\n",
       "</table>\n",
       "</div>"
      ],
      "text/plain": [
       "                             0             1             2             3  \\\n",
       "TARGET_BAD_FLAG       1.000000      1.000000      1.000000      1.000000   \n",
       "TARGET_LOSS_AMT     641.000000   1109.000000    767.000000   1425.000000   \n",
       "LOAN               1100.000000   1300.000000   1500.000000   1500.000000   \n",
       "z_REASON_DebtCon      0.000000      0.000000      0.000000      0.000000   \n",
       "z_REASON_HomeImp      1.000000      1.000000      1.000000      0.000000   \n",
       "z_JOB_Mgr             0.000000      0.000000      0.000000      0.000000   \n",
       "z_JOB_Office          0.000000      0.000000      0.000000      0.000000   \n",
       "z_JOB_Other           1.000000      1.000000      1.000000      0.000000   \n",
       "z_JOB_ProfExe         0.000000      0.000000      0.000000      0.000000   \n",
       "z_JOB_Sales           0.000000      0.000000      0.000000      0.000000   \n",
       "z_JOB_Self            0.000000      0.000000      0.000000      0.000000   \n",
       "M_VALUE               0.000000      0.000000      0.000000      1.000000   \n",
       "IMP_VALUE         39025.000000  68400.000000  16700.000000  76864.500000   \n",
       "M_MORTDUE             0.000000      0.000000      0.000000      1.000000   \n",
       "IMP_MORTDUE       25860.000000  70053.000000  13500.000000  65019.000000   \n",
       "M_YOJ                 0.000000      0.000000      0.000000      1.000000   \n",
       "IMP_YOJ              10.500000      7.000000      4.000000      7.000000   \n",
       "M_DEROG               0.000000      0.000000      0.000000      1.000000   \n",
       "IMP_DEROG             0.000000      0.000000      0.000000      0.000000   \n",
       "M_DELINQ              0.000000      0.000000      0.000000      1.000000   \n",
       "IMP_DELINQ            0.000000      2.000000      0.000000      0.000000   \n",
       "M_CLAGE               0.000000      0.000000      0.000000      1.000000   \n",
       "IMP_CLAGE            94.366667    121.833333    149.466667    173.466667   \n",
       "M_NINQ                0.000000      0.000000      0.000000      1.000000   \n",
       "IMP_NINQ              1.000000      0.000000      1.000000      1.000000   \n",
       "M_CLNO                0.000000      0.000000      0.000000      1.000000   \n",
       "IMP_CLNO              9.000000     14.000000     10.000000     20.000000   \n",
       "M_DEBTINC             1.000000      1.000000      1.000000      1.000000   \n",
       "IMP_DEBTINC          34.818262     34.818262     34.818262     34.818262   \n",
       "\n",
       "                              4  \n",
       "TARGET_BAD_FLAG        0.000000  \n",
       "TARGET_LOSS_AMT             NaN  \n",
       "LOAN                1700.000000  \n",
       "z_REASON_DebtCon       0.000000  \n",
       "z_REASON_HomeImp       1.000000  \n",
       "z_JOB_Mgr              0.000000  \n",
       "z_JOB_Office           1.000000  \n",
       "z_JOB_Other            0.000000  \n",
       "z_JOB_ProfExe          0.000000  \n",
       "z_JOB_Sales            0.000000  \n",
       "z_JOB_Self             0.000000  \n",
       "M_VALUE                0.000000  \n",
       "IMP_VALUE         112000.000000  \n",
       "M_MORTDUE              0.000000  \n",
       "IMP_MORTDUE        97800.000000  \n",
       "M_YOJ                  0.000000  \n",
       "IMP_YOJ                3.000000  \n",
       "M_DEROG                0.000000  \n",
       "IMP_DEROG              0.000000  \n",
       "M_DELINQ               0.000000  \n",
       "IMP_DELINQ             0.000000  \n",
       "M_CLAGE                0.000000  \n",
       "IMP_CLAGE             93.333333  \n",
       "M_NINQ                 0.000000  \n",
       "IMP_NINQ               0.000000  \n",
       "M_CLNO                 0.000000  \n",
       "IMP_CLNO              14.000000  \n",
       "M_DEBTINC              1.000000  \n",
       "IMP_DEBTINC           34.818262  "
      ]
     },
     "execution_count": 2,
     "metadata": {},
     "output_type": "execute_result"
    }
   ],
   "source": [
    "INFILE = \"cleandata_hmeqloss.csv\"\n",
    "\n",
    "TARGET_F = \"TARGET_BAD_FLAG\"\n",
    "TARGET_A = \"TARGET_LOSS_AMT\"\n",
    "\n",
    "df = pd.read_csv( INFILE )\n",
    "'''\n",
    "Print a transpose of the data so that it will fit on the screen cleaned data missing numeric values already imputed\n",
    "'''\n",
    "df.head().T"
   ]
  },
  {
   "cell_type": "code",
   "execution_count": 3,
   "id": "358ccb82",
   "metadata": {},
   "outputs": [
    {
     "name": "stdout",
     "output_type": "stream",
     "text": [
      "TRUNC_LOAN\n",
      "TRUNC_IMP_VALUE\n",
      "TRUNC_IMP_MORTDUE\n",
      "TRUNC_IMP_YOJ\n",
      "TRUNC_IMP_DEROG\n",
      "TRUNC_IMP_DELINQ\n",
      "TRUNC_IMP_CLAGE\n",
      "TRUNC_IMP_NINQ\n",
      "TRUNC_IMP_CLNO\n",
      "TRUNC_IMP_DEBTINC\n"
     ]
    }
   ],
   "source": [
    "\"\"\"\n",
    "Remove Outliers\n",
    "\"\"\"\n",
    "\n",
    "dt = df.dtypes #give me a list of all the variable in my dataframe\n",
    "numList = []\n",
    "for i in dt.index :\n",
    "#     print(i, dt[i])\n",
    "    if i in ( [ TARGET_F, TARGET_A ] ) : continue #going to throw away my target variables for right now \n",
    "    if dt[i] in ([\"float64\",\"int64\"]) : numList.append( i ) #only going to keep numeric variables put it inside numlist\n",
    "\n",
    "for i in numList :\n",
    "#     print(\" ------- \")\n",
    "#     print(i)\n",
    "    theMean = df[i].mean()\n",
    "    theSD = df[i].std()\n",
    "    theMax = df[i].max()\n",
    "    theCutoff = round( theMean + 3*theSD )\n",
    "    if \"z_\" in i or \"M_\" in i : continue\n",
    "    if theMax < theCutoff : continue\n",
    "    FLAG = \"O_\" + i\n",
    "    TRUNC = \"TRUNC_\" + i\n",
    "    df[ FLAG ] = ( df[i] > theCutoff )+ 0\n",
    "    df[ TRUNC ] = df[ i ]\n",
    "    df.loc[ df[TRUNC] > theCutoff, TRUNC ] = theCutoff\n",
    "    df = df.drop( i, axis=1 )\n",
    "\n",
    "dt = df.dtypes\n",
    "numList = []\n",
    "for i in dt.index :\n",
    "#     print(i, dt[i])\n",
    "    if i in ( [ TARGET_F, TARGET_A ] ) : continue\n",
    "    if \"O_\" in i or \"z_\" in i  or \"M_\" in i : continue\n",
    "    if dt[i] in ([\"float64\",\"int64\"]) : numList.append( i )\n",
    "\n",
    "for i in numList :\n",
    "    print(i)\n"
   ]
  },
  {
   "cell_type": "code",
   "execution_count": 4,
   "id": "eb2c72e1",
   "metadata": {},
   "outputs": [],
   "source": [
    "\"\"\"\n",
    "SPLIT DATA \n",
    "\"\"\"\n",
    "X = df.copy() #making an exact copy of our dataframe\n",
    "X = X.drop(TARGET_F, axis=1) #dropping target flag variable\n",
    "X = X.drop(TARGET_A, axis=1) #dropping target damage amount variable\n",
    "Y = df[[TARGET_F, TARGET_A]] #Y variable is only going to have target variables\n",
    "X_train, X_test, Y_train, Y_test = train_test_split(X, Y, train_size=0.8, test_size=0.2, random_state=1)\n",
    "\n",
    "F = ~ Y_train[TARGET_A].isna()   \n",
    "W_train = X_train[F].copy() #Flag for input variables its better practice to make a copy of it \n",
    "Z_train = Y_train[F].copy() #Flag for target variables its better practice to make a copy of it\n",
    "\n",
    "F = ~ Y_test[TARGET_A].isna()   \n",
    "W_test = X_test[F].copy() #Flag for input variables its better practice to make a copy of it \n",
    "Z_test = Y_test[F].copy() #Flag for target variables its better practice to make a copy of it\n",
    "\n",
    "\n",
    "#Handling Outliers for Target Variables TARGET_LOSS_AMT \n",
    "F = Z_train[TARGET_A] > 55000     #let's cap it at 55000 dollars worth of loss amount if the loans defaults\n",
    "Z_train.loc[F, TARGET_A] = 55000 \n",
    "\n",
    "F = Z_test[TARGET_A] > 55000\n",
    "Z_test.loc[F, TARGET_A] = 55000"
   ]
  },
  {
   "cell_type": "code",
   "execution_count": 5,
   "id": "0a33777b",
   "metadata": {},
   "outputs": [],
   "source": [
    "\"\"\"\n",
    "MODEL ACCURACY METRICS\n",
    "\"\"\"\n",
    "\n",
    "def getProbAccuracyScores( NAME, MODEL, X, Y ) :\n",
    "    pred = MODEL.predict( X )\n",
    "    probs = MODEL.predict_proba( X )\n",
    "    acc_score = metrics.accuracy_score(Y, pred)\n",
    "    p1 = probs[:,1]\n",
    "    fpr, tpr, threshold = metrics.roc_curve( Y, p1)\n",
    "    auc = metrics.auc(fpr,tpr)\n",
    "    return [NAME, acc_score, fpr, tpr, auc]\n",
    "\n",
    "\n",
    "def print_ROC_Curve( TITLE, LIST ) :\n",
    "    fig = plt.figure(figsize=(6,4))\n",
    "    plt.title( TITLE )\n",
    "    for theResults in LIST :\n",
    "        NAME = theResults[0]\n",
    "        fpr = theResults[2]\n",
    "        tpr = theResults[3]\n",
    "        auc = theResults[4]\n",
    "        theLabel = \"AUC \" + NAME + ' %0.2f' % auc\n",
    "        plt.plot(fpr, tpr, label = theLabel )\n",
    "    plt.legend(loc = 'lower right')\n",
    "    plt.plot([0, 1], [0, 1],'r--')\n",
    "    plt.xlim([0, 1])\n",
    "    plt.ylim([0, 1])\n",
    "    plt.ylabel('True Positive Rate')\n",
    "    plt.xlabel('False Positive Rate')\n",
    "    plt.show()\n",
    "\n",
    "    \n",
    "def print_Accuracy( TITLE, LIST ) :\n",
    "    print( TITLE )\n",
    "    print( \"======\" )\n",
    "    for theResults in LIST :\n",
    "        NAME = theResults[0]\n",
    "        ACC = theResults[1]\n",
    "        print( NAME, \" = \", ACC )\n",
    "    print( \"------\\n\\n\" )\n",
    "\n",
    "    \n",
    "def getAmtAccuracyScores( NAME, MODEL, X, Y ) :\n",
    "    pred = MODEL.predict( X )\n",
    "    MEAN = Y.mean()\n",
    "    RMSE = math.sqrt( metrics.mean_squared_error( Y, pred))\n",
    "    return [NAME, RMSE, MEAN]"
   ]
  },
  {
   "cell_type": "code",
   "execution_count": 6,
   "id": "6cb9d041",
   "metadata": {},
   "outputs": [],
   "source": [
    "\"\"\"\n",
    "DECISION TREE GET VARIABLES USED IN THE MODEL FUNCTION\n",
    "\"\"\"\n",
    "\n",
    "def getTreeVars( TREE, varNames ) :\n",
    "    tree_ = TREE.tree_\n",
    "    varName = [ varNames[i] if i != _tree.TREE_UNDEFINED else \"undefined!\" for i in tree_.feature ]\n",
    "\n",
    "    nameSet = set()\n",
    "    for i in tree_.feature :\n",
    "        if i != _tree.TREE_UNDEFINED :\n",
    "            nameSet.add( i )\n",
    "    nameList = list( nameSet )\n",
    "    parameter_list = list()\n",
    "    for i in nameList :\n",
    "        parameter_list.append( varNames[i] )\n",
    "    return parameter_list"
   ]
  },
  {
   "cell_type": "markdown",
   "id": "60e9c9e7",
   "metadata": {},
   "source": [
    "## Decision Tree Classifier "
   ]
  },
  {
   "cell_type": "code",
   "execution_count": 7,
   "id": "7ef89221",
   "metadata": {},
   "outputs": [
    {
     "data": {
      "image/png": "[encoded data removed]",
      "text/plain": [
       "<Figure size 432x288 with 1 Axes>"
      ]
     },
     "metadata": {},
     "output_type": "display_data"
    },
    {
     "name": "stdout",
     "output_type": "stream",
     "text": [
      "TREE CLASSIFICATION ACCURACY\n",
      "======\n",
      "TREE_Train  =  0.8928271812080537\n",
      "TREE  =  0.8859060402684564\n",
      "------\n",
      "\n",
      "\n"
     ]
    }
   ],
   "source": [
    "WHO = \"TREE\"\n",
    "\n",
    "CLM = tree.DecisionTreeClassifier( max_depth = 4)\n",
    "CLM = CLM.fit(X_train, Y_train[TARGET_F])\n",
    "\n",
    "TRAIN_CLM = getProbAccuracyScores( WHO + \"_Train\", CLM, X_train, Y_train[ TARGET_F ] )\n",
    "TEST_CLM = getProbAccuracyScores( WHO, CLM, X_test, Y_test[ TARGET_F ])\n",
    "\n",
    "print_ROC_Curve( WHO, [ TRAIN_CLM, TEST_CLM ] ) \n",
    "print_Accuracy( WHO + \" CLASSIFICATION ACCURACY\", [ TRAIN_CLM, TEST_CLM ] )\n",
    "\n",
    "feature_cols = list( X.columns.values )\n",
    "vars_tree_flag = getTreeVars( CLM, feature_cols ) "
   ]
  },
  {
   "cell_type": "markdown",
   "id": "e510b7ea",
   "metadata": {},
   "source": [
    "## Decision Tree Regression "
   ]
  },
  {
   "cell_type": "code",
   "execution_count": 8,
   "id": "05e8d434",
   "metadata": {},
   "outputs": [
    {
     "name": "stdout",
     "output_type": "stream",
     "text": [
      "TREE RMSE ACCURACY\n",
      "======\n",
      "TREE_Train  =  4491.106341702886\n",
      "TREE  =  5522.483680969053\n",
      "------\n",
      "\n",
      "\n"
     ]
    }
   ],
   "source": [
    "AMT = tree.DecisionTreeRegressor( max_depth=4)\n",
    "AMT = AMT.fit( W_train, Z_train[TARGET_A])\n",
    "\n",
    "TRAIN_AMT = getAmtAccuracyScores( WHO + \"_Train\", AMT, W_train, Z_train[TARGET_A] )\n",
    "TEST_AMT = getAmtAccuracyScores( WHO, AMT, W_test, Z_test[TARGET_A] )\n",
    "print_Accuracy( WHO + \" RMSE ACCURACY\", [ TRAIN_AMT, TEST_AMT ] )\n",
    "\n",
    "feature_cols = list( X.columns.values )\n",
    "vars_tree_amt = getTreeVars( AMT, feature_cols )\n",
    "\n",
    "TREE_CLM = TEST_CLM.copy()\n",
    "TREE_AMT = TEST_AMT.copy()\n"
   ]
  },
  {
   "cell_type": "code",
   "execution_count": 9,
   "id": "14c4673b",
   "metadata": {},
   "outputs": [],
   "source": [
    "\"\"\"\n",
    "FUNCTION FOR GETTING VARIABLES USED IN THE RANDOM FOREST AND GRADIENT BOOSTING MODELS\n",
    "\"\"\"\n",
    "\n",
    "\n",
    "def getEnsembleTreeVars( ENSTREE, varNames ) :\n",
    "    importance = ENSTREE.feature_importances_\n",
    "    index = np.argsort(importance)\n",
    "    theList = []\n",
    "    for i in index :\n",
    "        imp_val = importance[i]\n",
    "        if imp_val > np.average( ENSTREE.feature_importances_ ) :\n",
    "            v = int( imp_val / np.max( ENSTREE.feature_importances_ ) * 100 )\n",
    "            theList.append( ( varNames[i], v ) )\n",
    "    theList = sorted(theList,key=itemgetter(1),reverse=True)\n",
    "    return theList"
   ]
  },
  {
   "cell_type": "markdown",
   "id": "763b2ec7",
   "metadata": {},
   "source": [
    "## Random Forest Classifier"
   ]
  },
  {
   "cell_type": "code",
   "execution_count": 10,
   "id": "9e7574a1",
   "metadata": {},
   "outputs": [
    {
     "data": {
      "image/png": "[encoded data removed]",
      "text/plain": [
       "<Figure size 432x288 with 1 Axes>"
      ]
     },
     "metadata": {},
     "output_type": "display_data"
    },
    {
     "name": "stdout",
     "output_type": "stream",
     "text": [
      "RF CLASSIFICATION ACCURACY\n",
      "======\n",
      "RF_Train  =  1.0\n",
      "RF  =  0.9144295302013423\n",
      "------\n",
      "\n",
      "\n"
     ]
    }
   ],
   "source": [
    "WHO = \"RF\"\n",
    "\n",
    "CLM = RandomForestClassifier( n_estimators = 100, random_state=1 )\n",
    "CLM = CLM.fit( X_train, Y_train[ TARGET_F ] )\n",
    "\n",
    "TRAIN_CLM = getProbAccuracyScores( WHO + \"_Train\", CLM, X_train, Y_train[ TARGET_F ] )\n",
    "TEST_CLM = getProbAccuracyScores( WHO, CLM, X_test, Y_test[ TARGET_F ] )\n",
    "\n",
    "print_ROC_Curve( WHO, [ TRAIN_CLM, TEST_CLM ] ) \n",
    "print_Accuracy( WHO + \" CLASSIFICATION ACCURACY\", [ TRAIN_CLM, TEST_CLM ] )\n",
    "\n",
    "\n",
    "feature_cols = list( X.columns.values )\n",
    "vars_RF_flag = getEnsembleTreeVars( CLM, feature_cols )\n"
   ]
  },
  {
   "cell_type": "markdown",
   "id": "bfa6356a",
   "metadata": {},
   "source": [
    "## Random Forest Tree Regression "
   ]
  },
  {
   "cell_type": "code",
   "execution_count": 11,
   "id": "9fb87061",
   "metadata": {},
   "outputs": [
    {
     "name": "stdout",
     "output_type": "stream",
     "text": [
      "RF RMSE ACCURACY\n",
      "======\n",
      "RF_Train  =  1240.5527800676525\n",
      "RF  =  2780.278461970596\n",
      "------\n",
      "\n",
      "\n",
      "('TRUNC_LOAN', 100)\n",
      "('TRUNC_IMP_CLNO', 13)\n",
      "('TRUNC_IMP_DEBTINC', 6)\n",
      "('M_DEBTINC', 4)\n"
     ]
    }
   ],
   "source": [
    "AMT = RandomForestRegressor(n_estimators = 100, random_state=1)\n",
    "AMT = AMT.fit( W_train, Z_train[TARGET_A] )\n",
    "\n",
    "TRAIN_AMT = getAmtAccuracyScores( WHO + \"_Train\", AMT, W_train, Z_train[TARGET_A] )\n",
    "TEST_AMT = getAmtAccuracyScores( WHO, AMT, W_test, Z_test[TARGET_A] )\n",
    "print_Accuracy( WHO + \" RMSE ACCURACY\", [ TRAIN_AMT, TEST_AMT ] )\n",
    "\n",
    "feature_cols = list( X.columns.values )\n",
    "vars_RF_amt = getEnsembleTreeVars( AMT, feature_cols )\n",
    "\n",
    "for i in vars_RF_amt :\n",
    "    print( i )\n",
    "\n",
    "RF_CLM = TEST_CLM.copy()\n",
    "RF_AMT = TEST_AMT.copy()"
   ]
  },
  {
   "cell_type": "markdown",
   "id": "2b28214d",
   "metadata": {},
   "source": [
    "## Gradient Boosting Classifier"
   ]
  },
  {
   "cell_type": "code",
   "execution_count": 12,
   "id": "d346b391",
   "metadata": {},
   "outputs": [
    {
     "data": {
      "image/png": "[encoded data removed]",
      "text/plain": [
       "<Figure size 432x288 with 1 Axes>"
      ]
     },
     "metadata": {},
     "output_type": "display_data"
    },
    {
     "name": "stdout",
     "output_type": "stream",
     "text": [
      "GB CLASSIFICATION ACCURACY\n",
      "======\n",
      "GB_Train  =  0.9226090604026845\n",
      "GB  =  0.9035234899328859\n",
      "------\n",
      "\n",
      "\n"
     ]
    }
   ],
   "source": [
    "WHO = \"GB\"\n",
    "\n",
    "CLM = GradientBoostingClassifier( random_state=1 )\n",
    "CLM = CLM.fit( X_train, Y_train[ TARGET_F ] )\n",
    "\n",
    "TRAIN_CLM = getProbAccuracyScores( WHO + \"_Train\", CLM, X_train, Y_train[ TARGET_F ] )\n",
    "TEST_CLM = getProbAccuracyScores( WHO, CLM, X_test, Y_test[ TARGET_F ] )\n",
    "\n",
    "print_ROC_Curve( WHO, [ TRAIN_CLM, TEST_CLM ] ) \n",
    "print_Accuracy( WHO + \" CLASSIFICATION ACCURACY\", [ TRAIN_CLM, TEST_CLM ] )\n",
    "\n",
    "\n",
    "feature_cols = list( X.columns.values )\n",
    "vars_GB_flag = getEnsembleTreeVars( CLM, feature_cols )"
   ]
  },
  {
   "cell_type": "markdown",
   "id": "6d710eeb",
   "metadata": {},
   "source": [
    "## Gradient Boosting Regression"
   ]
  },
  {
   "cell_type": "code",
   "execution_count": 13,
   "id": "7456ea7f",
   "metadata": {},
   "outputs": [
    {
     "name": "stdout",
     "output_type": "stream",
     "text": [
      "GB RMSE ACCURACY\n",
      "======\n",
      "GB_Train  =  1240.0938112372605\n",
      "GB  =  2201.8194437335387\n",
      "------\n",
      "\n",
      "\n",
      "('TRUNC_LOAN', 100)\n",
      "('TRUNC_IMP_CLNO', 13)\n",
      "('TRUNC_IMP_DEBTINC', 6)\n",
      "('M_DEBTINC', 4)\n"
     ]
    }
   ],
   "source": [
    "AMT = GradientBoostingRegressor(random_state=1)\n",
    "AMT = AMT.fit( W_train, Z_train[TARGET_A] )\n",
    "\n",
    "TRAIN_AMT = getAmtAccuracyScores( WHO + \"_Train\", AMT, W_train, Z_train[TARGET_A] )\n",
    "TEST_AMT = getAmtAccuracyScores( WHO, AMT, W_test, Z_test[TARGET_A] )\n",
    "print_Accuracy( WHO + \" RMSE ACCURACY\", [ TRAIN_AMT, TEST_AMT ] )\n",
    "\n",
    "feature_cols = list( X.columns.values )\n",
    "vars_GB_amt = getEnsembleTreeVars( AMT, feature_cols )\n",
    "\n",
    "for i in vars_RF_amt :\n",
    "    print( i )\n",
    "\n",
    "GB_CLM = TEST_CLM.copy()\n",
    "GB_AMT = TEST_AMT.copy()"
   ]
  },
  {
   "cell_type": "markdown",
   "id": "9a81030a",
   "metadata": {},
   "source": [
    "### Function to get Coefficients for both Logistic and Linear Regression"
   ]
  },
  {
   "cell_type": "code",
   "execution_count": 14,
   "id": "37f17450",
   "metadata": {},
   "outputs": [],
   "source": [
    "def getCoefLogit( MODEL, TRAIN_DATA ) :\n",
    "    varNames = list( TRAIN_DATA.columns.values )\n",
    "    coef_dict = {}\n",
    "    coef_dict[\"INTERCEPT\"] = MODEL.intercept_[0]\n",
    "    for coef, feat in zip(MODEL.coef_[0],varNames):\n",
    "        coef_dict[feat] = coef\n",
    "    print(\"\\nFLAG\")\n",
    "    print(\"---------\")\n",
    "    print(\"Total Variables: \", len( coef_dict ) )\n",
    "    for i in coef_dict :\n",
    "        print( i, \" = \", coef_dict[i]  )\n",
    "        \n",
    "        \n",
    "def getCoefLinear( MODEL, TRAIN_DATA ) :\n",
    "    varNames = list( TRAIN_DATA.columns.values )\n",
    "    coef_dict = {}\n",
    "    coef_dict[\"INTERCEPT\"] = MODEL.intercept_\n",
    "    for coef, feat in zip(MODEL.coef_,varNames):\n",
    "        coef_dict[feat] = coef\n",
    "    print(\"\\nLOSS AMOUNT\")\n",
    "    print(\"---------\")\n",
    "    print(\"Total Variables: \", len( coef_dict ) )\n",
    "    for i in coef_dict :\n",
    "        print( i, \" = \", coef_dict[i]  )"
   ]
  },
  {
   "cell_type": "markdown",
   "id": "e9206195",
   "metadata": {},
   "source": [
    "## Logistic Regression:\n",
    "### Develop a logistic regression model to determine the probability of a loan default. Use all of the variables."
   ]
  },
  {
   "cell_type": "code",
   "execution_count": 15,
   "id": "20a7425c",
   "metadata": {},
   "outputs": [
    {
     "data": {
      "image/png": "[encoded data removed]",
      "text/plain": [
       "<Figure size 432x288 with 1 Axes>"
      ]
     },
     "metadata": {},
     "output_type": "display_data"
    },
    {
     "name": "stdout",
     "output_type": "stream",
     "text": [
      "REG_ALL CLASSIFICATION ACCURACY\n",
      "======\n",
      "REG_ALL_Train  =  0.893246644295302\n",
      "REG_ALL  =  0.886744966442953\n",
      "------\n",
      "\n",
      "\n"
     ]
    }
   ],
   "source": [
    "\"\"\"\n",
    "LOGISTIC REGRESSION ALL VARIABLES\n",
    "\"\"\"\n",
    "\n",
    "WHO = \"REG_ALL\"\n",
    "CLM = LogisticRegression(solver='newton-cg', max_iter=1000)\n",
    "CLM = CLM.fit(X_train, Y_train[TARGET_F])\n",
    "\n",
    "TRAIN_CLM = getProbAccuracyScores( WHO + \"_Train\", CLM, X_train, Y_train[ TARGET_F ])\n",
    "TEST_CLM = getProbAccuracyScores( WHO, CLM, X_test, Y_test[ TARGET_F ] )\n",
    "\n",
    "print_ROC_Curve( WHO, [ TRAIN_CLM, TEST_CLM ] ) \n",
    "print_Accuracy( WHO + \" CLASSIFICATION ACCURACY\", [ TRAIN_CLM, TEST_CLM ] )\n",
    "\n",
    "# REG_ALL_CLM_COEF = getCoefLogit( CLM, X_train )\n",
    "REG_ALL_CLM = TEST_CLM.copy()"
   ]
  },
  {
   "cell_type": "markdown",
   "id": "5406a0c1",
   "metadata": {},
   "source": [
    "### Analysis \n",
    "#### Display a ROC curve for the test data with all your models on the same graph (tree based and regression).\n",
    "- Since the following ROC curve is using all the variables in logistics regression it still has 90% accuracy which is really good. We need to have our models to be less complicated as simple as possible. But its decent to start off by using all variables in the regression model. I would only recommend using REG_ALL variables for regression model as a starting point to see the accuracy and how model behaves when we use all variables.  "
   ]
  },
  {
   "cell_type": "markdown",
   "id": "d7faaf66",
   "metadata": {},
   "source": [
    "### Develop a logistic regression model to determine the probability of a loan default. Use the variables that were selected by a DECISION TREE."
   ]
  },
  {
   "cell_type": "code",
   "execution_count": 16,
   "id": "ecd9ab2f",
   "metadata": {},
   "outputs": [
    {
     "data": {
      "image/png": "[encoded data removed]",
      "text/plain": [
       "<Figure size 432x288 with 1 Axes>"
      ]
     },
     "metadata": {},
     "output_type": "display_data"
    },
    {
     "name": "stdout",
     "output_type": "stream",
     "text": [
      "REG_TREE CLASSIFICATION ACCURACY\n",
      "======\n",
      "REG_TREE_Train  =  0.8871644295302014\n",
      "REG_TREE  =  0.8875838926174496\n",
      "------\n",
      "\n",
      "\n"
     ]
    }
   ],
   "source": [
    "\"\"\"\n",
    "LOGISTIC REGRESSION TREE\n",
    "\"\"\"\n",
    "\n",
    "WHO = \"REG_TREE\"\n",
    "\n",
    "#We are only using the variables that the decision tree likes\n",
    "CLM = LogisticRegression( solver = 'newton-cg', max_iter=1000)\n",
    "CLM = CLM.fit( X_train[vars_tree_flag], Y_train[TARGET_F])\n",
    "\n",
    "TRAIN_CLM = getProbAccuracyScores( WHO + \"_Train\", CLM, X_train[vars_tree_flag], Y_train[ TARGET_F ] )\n",
    "TEST_CLM = getProbAccuracyScores( WHO, CLM, X_test[vars_tree_flag], Y_test[ TARGET_F ] )\n",
    "\n",
    "print_ROC_Curve( WHO, [ TRAIN_CLM, TEST_CLM ] ) \n",
    "print_Accuracy( WHO + \" CLASSIFICATION ACCURACY\", [ TRAIN_CLM, TEST_CLM ] )\n",
    "\n",
    "# REG_TREE_CLM_COEF = getCoefLogit( CLM, X_train[vars_tree_flag] )\n",
    "REG_TREE_CLM = TEST_CLM.copy()"
   ]
  },
  {
   "cell_type": "markdown",
   "id": "37aa80c7",
   "metadata": {},
   "source": [
    "### Analysis: \n",
    "#### Display a ROC curve for the test data with all your models on the same graph (tree based and regression).\n",
    "- The ROC curve with Logistics Regression Decision Tree (REG_TREE) has accuracy rate of 88% for test dataset is much better than accurate rate for decision tree based models (TREE) which as 83%. They both are using same variables for build models. I would recommend going with Regression Tree instead of tree based models which compares these two model for this particular dataset. "
   ]
  },
  {
   "cell_type": "markdown",
   "id": "06b11f45",
   "metadata": {},
   "source": [
    "### Develop a logistic regression model to determine the probability of a loan default. Use the variables that were selected by a RANDOM FOREST."
   ]
  },
  {
   "cell_type": "code",
   "execution_count": 17,
   "id": "d6d4e650",
   "metadata": {},
   "outputs": [
    {
     "name": "stdout",
     "output_type": "stream",
     "text": [
      "\n",
      "\n",
      "\n"
     ]
    },
    {
     "data": {
      "image/png": "[encoded data removed]",
      "text/plain": [
       "<Figure size 432x288 with 1 Axes>"
      ]
     },
     "metadata": {},
     "output_type": "display_data"
    },
    {
     "name": "stdout",
     "output_type": "stream",
     "text": [
      "REG_RF CLASSIFICATION ACCURACY\n",
      "======\n",
      "REG_RF_Train  =  0.8800335570469798\n",
      "REG_RF  =  0.87751677852349\n",
      "------\n",
      "\n",
      "\n"
     ]
    }
   ],
   "source": [
    "\"\"\"\n",
    "LOGISTICS REGRESSION RANDOM FOREST\n",
    "\"\"\"\n",
    "\n",
    "WHO = \"REG_RF\"\n",
    "\n",
    "print(\"\\n\\n\")\n",
    "RF_flag = []\n",
    "for i in vars_RF_flag : #We saved these variables vars_RF_flag earlier in the program \n",
    "#     print(i)\n",
    "    theVar = i[0] #Over here what we are doing is taking this data and using just the name of the variables\n",
    "    RF_flag.append( theVar ) #We are saving the variable name into RF_flag\n",
    "\n",
    "\n",
    "CLM = LogisticRegression( solver='newton-cg', max_iter=1000 )\n",
    "CLM = CLM.fit( X_train[RF_flag], Y_train[ TARGET_F ] )\n",
    "\n",
    "TRAIN_CLM = getProbAccuracyScores( WHO + \"_Train\", CLM, X_train[RF_flag], Y_train[ TARGET_F ] )\n",
    "TEST_CLM = getProbAccuracyScores( WHO, CLM, X_test[RF_flag], Y_test[ TARGET_F ] )\n",
    "\n",
    "print_ROC_Curve( WHO, [ TRAIN_CLM, TEST_CLM ] ) \n",
    "print_Accuracy( WHO + \" CLASSIFICATION ACCURACY\", [ TRAIN_CLM, TEST_CLM ] )\n",
    "\n",
    "# REG_RF_CLM_COEF = getCoefLogit( CLM, X_train[RF_flag] )\n",
    "REG_RF_CLM = TEST_CLM.copy()\n"
   ]
  },
  {
   "cell_type": "markdown",
   "id": "a3180c8d",
   "metadata": {},
   "source": [
    "### Analysis: \n",
    "#### Display a ROC curve for the test data with all your models on the same graph (tree based and regression).\n",
    "- The ROC curve with Logistics Regression Decision Tree (REG_RF) has accuracy rate of 87% for test dataset has lost accuracy when compared to random forest model (RF) which as 96% accuracy. They both are using same variables for build models. I would recommend going with Random Forest model instead of logistic regression random forest model which compares these two model for this particular dataset. "
   ]
  },
  {
   "cell_type": "markdown",
   "id": "0b98b432",
   "metadata": {},
   "source": [
    "### Develop a logistic regression model to determine the probability of a loan default. Use the variables that were selected by a GRADIENT BOOSTING model."
   ]
  },
  {
   "cell_type": "code",
   "execution_count": 18,
   "id": "7981cd9a",
   "metadata": {},
   "outputs": [
    {
     "name": "stdout",
     "output_type": "stream",
     "text": [
      "\n",
      "\n",
      "\n"
     ]
    },
    {
     "data": {
      "image/png": "[encoded data removed]",
      "text/plain": [
       "<Figure size 432x288 with 1 Axes>"
      ]
     },
     "metadata": {},
     "output_type": "display_data"
    },
    {
     "name": "stdout",
     "output_type": "stream",
     "text": [
      "REG_GB CLASSIFICATION ACCURACY\n",
      "======\n",
      "REG_GB_Train  =  0.8810822147651006\n",
      "REG_GB  =  0.8808724832214765\n",
      "------\n",
      "\n",
      "\n"
     ]
    }
   ],
   "source": [
    "\"\"\"\n",
    "LOGISTICS REGRESSION GRADIENT BOOSTING\n",
    "\n",
    "\"\"\"\n",
    "\n",
    "WHO = \"REG_GB\"\n",
    "\n",
    "print(\"\\n\\n\")\n",
    "GB_flag = []\n",
    "for i in vars_GB_flag:\n",
    "#     print(i)\n",
    "    theVar = i[0]\n",
    "    GB_flag.append(theVar)\n",
    "    \n",
    "CLM = LogisticRegression( solver='newton-cg', max_iter=1000)\n",
    "CLM = CLM.fit( X_train[GB_flag], Y_train[ TARGET_F])\n",
    "\n",
    "TRAIN_CLM = getProbAccuracyScores( WHO + \"_Train\", CLM, X_train[GB_flag], Y_train[ TARGET_F ] )\n",
    "TEST_CLM = getProbAccuracyScores( WHO, CLM, X_test[GB_flag], Y_test[ TARGET_F ] )\n",
    "\n",
    "print_ROC_Curve( WHO, [ TRAIN_CLM, TEST_CLM ] ) \n",
    "print_Accuracy( WHO + \" CLASSIFICATION ACCURACY\", [ TRAIN_CLM, TEST_CLM ] )\n",
    "\n",
    "# REG_GB_CLM_COEF = getCoefLogit( CLM, X_train[GB_flag] )\n",
    "REG_GB_CLM = TEST_CLM.copy()\n"
   ]
  },
  {
   "cell_type": "markdown",
   "id": "81ea241b",
   "metadata": {},
   "source": [
    "### Analysis: \n",
    "#### Display a ROC curve for the test data with all your models on the same graph (tree based and regression).\n",
    "- The ROC curve with Logistics Regression Decision Tree (REG_GB) has accuracy rate of 88% for both training and test dataset. The ROC curve accuracy on Logistic Regression Gradient Boosting mode on test dataset it has 87% accuracy compared to Gradient Boosting model (GB) which as 87% accuracy. They both are using same variables for build models. I would recommend going with Gradient Boosting model instead of logistic regression Gradient boosting model which compares these two model for this particular dataset. "
   ]
  },
  {
   "cell_type": "markdown",
   "id": "788ce206",
   "metadata": {},
   "source": [
    "### Build Forwards Stepwise Logistic Regression Function for Variable Selection \n",
    "- Copy (X_train) train data into new dataset called U_train based on the variables what Decision Tree liked\n",
    "- Build logistic regression with best model using 1 to as many variable needed it takes really long time"
   ]
  },
  {
   "cell_type": "code",
   "execution_count": 19,
   "id": "66ebb17b",
   "metadata": {},
   "outputs": [
    {
     "data": {
      "image/png": "[encoded data removed]",
      "text/plain": [
       "<Figure size 432x288 with 1 Axes>"
      ]
     },
     "metadata": {},
     "output_type": "display_data"
    },
    {
     "name": "stdout",
     "output_type": "stream",
     "text": [
      " ................... \n",
      "argmax\n",
      "feature_names    (0, 1, 2, 3, 4, 6, 7, 8, 9, 10)\n",
      "avg_score                               0.888214\n",
      "Name: 10, dtype: object\n",
      " ................... \n",
      "('0', '1', '2', '3', '4', '6', '7', '8', '9', '10')\n",
      "Variables Selected By SFS: \n",
      "\n",
      "TRUNC_IMP_DEBTINC\n",
      "z_JOB_Other\n",
      "M_VALUE\n",
      "M_DEROG\n",
      "M_DEBTINC\n",
      "TRUNC_IMP_YOJ\n",
      "TRUNC_IMP_DEROG\n",
      "O_IMP_DELINQ\n",
      "TRUNC_IMP_DELINQ\n",
      "TRUNC_IMP_CLAGE\n",
      "\n",
      "FLAG\n",
      "---------\n",
      "Total Variables:  9\n",
      "INTERCEPT  =  -5.252129387674237\n",
      "M_DEBTINC  =  2.74292939602802\n",
      "TRUNC_IMP_DEBTINC  =  0.10598727234385079\n",
      "TRUNC_IMP_DELINQ  =  0.7072470866267293\n",
      "TRUNC_IMP_CLAGE  =  -0.006083874024488863\n",
      "TRUNC_IMP_DEROG  =  0.7536919219477693\n",
      "M_VALUE  =  3.543145496655478\n",
      "TRUNC_IMP_CLNO  =  -0.01585026506228718\n",
      "TRUNC_IMP_YOJ  =  -0.013365840769067171\n"
     ]
    }
   ],
   "source": [
    "U_train = X_train[ vars_tree_flag]\n",
    "stepVarNames = list( U_train.columns.values)\n",
    "maxCols = U_train.shape[1]\n",
    "\n",
    "sfs = SFS( LogisticRegression( solver='newton-cg', max_iter=100),\n",
    "          k_features=(1, maxCols), \n",
    "          forward=True, \n",
    "          floating=False,\n",
    "          cv=3\n",
    "         ) \n",
    "\n",
    "sfs.fit(U_train.values, Y_train[ TARGET_F ].values)\n",
    "\n",
    "theFigure = plot_sfs(sfs.get_metric_dict(), kind=None )\n",
    "plt.title('DEFAULT LOANS PROBABILITY Sequential Forward Selection (w. StdErr)')\n",
    "plt.grid()\n",
    "plt.show()\n",
    "\n",
    "dfm = pd.DataFrame.from_dict( sfs.get_metric_dict()).T\n",
    "dfm = dfm[ ['feature_names', 'avg_score'] ]\n",
    "dfm.avg_score = dfm.avg_score.astype(float)\n",
    "\n",
    "print(\" ................... \")\n",
    "maxIndex = dfm.avg_score.argmax()\n",
    "print(\"argmax\")\n",
    "print( dfm.iloc[ maxIndex, ] )\n",
    "print(\" ................... \")\n",
    "\n",
    "stepVars = dfm.iloc[ maxIndex, ]\n",
    "stepVars = stepVars.feature_names\n",
    "print( stepVars )\n",
    "\n",
    "finalStepVars = []\n",
    "for i in stepVars :\n",
    "    index = int(i)\n",
    "    try :\n",
    "        theName = stepVarNames[ index ]\n",
    "        finalStepVars.append( theName )\n",
    "    except :\n",
    "        pass\n",
    "\n",
    "print(\"Variables Selected By SFS: \\n\")\n",
    "for i in finalStepVars :\n",
    "    print(i)\n",
    "\n",
    "U_train = X_train[ finalStepVars ]\n",
    "U_test = X_test[ finalStepVars ]\n",
    "\n",
    "REG_GB_CLM_COEF = getCoefLogit( CLM, X_train[GB_flag] )\n",
    "REG_GB_CLM = TEST_CLM.copy()"
   ]
  },
  {
   "cell_type": "markdown",
   "id": "665be39c",
   "metadata": {},
   "source": [
    "### Develop a logistic regression model to determine the probability of a loan default. Use the variables that were selected by STEPWISE SELECTION."
   ]
  },
  {
   "cell_type": "code",
   "execution_count": 20,
   "id": "3fb9199b",
   "metadata": {},
   "outputs": [
    {
     "data": {
      "image/png": "[encoded data removed]",
      "text/plain": [
       "<Figure size 432x288 with 1 Axes>"
      ]
     },
     "metadata": {},
     "output_type": "display_data"
    },
    {
     "name": "stdout",
     "output_type": "stream",
     "text": [
      "REG_STEPWISE CLASSIFICATION ACCURACY\n",
      "======\n",
      "REG_STEPWISE_Train  =  0.8869546979865772\n",
      "REG_STEPWISE  =  0.8875838926174496\n",
      "------\n",
      "\n",
      "\n",
      "For one of the Regression Models, print the coefficients. Do the variables make sense?\n",
      "\n",
      "FLAG\n",
      "---------\n",
      "Total Variables:  11\n",
      "INTERCEPT  =  -5.473989562333851\n",
      "TRUNC_IMP_DEBTINC  =  0.10440643048454225\n",
      "z_JOB_Other  =  0.3126047221107822\n",
      "M_VALUE  =  3.7901887444786166\n",
      "M_DEROG  =  -0.7677993789964631\n",
      "M_DEBTINC  =  2.7516851002591447\n",
      "TRUNC_IMP_YOJ  =  -0.01678335251219504\n",
      "TRUNC_IMP_DEROG  =  0.6757340170620829\n",
      "O_IMP_DELINQ  =  2.097549453444879\n",
      "TRUNC_IMP_DELINQ  =  0.6298143501830765\n",
      "TRUNC_IMP_CLAGE  =  -0.006448992626907168\n"
     ]
    }
   ],
   "source": [
    "\"\"\"\n",
    "LOGISTICS REGRESSION STEPWISE\n",
    "\n",
    "\"\"\"\n",
    "WHO = \"REG_STEPWISE\"\n",
    "\n",
    "CLM = LogisticRegression( solver='newton-cg', max_iter=1000 )\n",
    "CLM = CLM.fit( U_train, Y_train[ TARGET_F ] )\n",
    "\n",
    "TRAIN_CLM = getProbAccuracyScores( WHO + \"_Train\", CLM, U_train, Y_train[ TARGET_F ] )\n",
    "TEST_CLM = getProbAccuracyScores( WHO, CLM, U_test, Y_test[ TARGET_F ] )\n",
    "\n",
    "print_ROC_Curve( WHO, [ TRAIN_CLM, TEST_CLM ] ) \n",
    "print_Accuracy( WHO + \" CLASSIFICATION ACCURACY\", [ TRAIN_CLM, TEST_CLM ] )\n",
    "\n",
    "print(\"For one of the Regression Models, print the coefficients. Do the variables make sense?\")\n",
    "REG_STEP_CLM_COEF = getCoefLogit( CLM, U_train )\n",
    "REG_STEP_CLM = TEST_CLM.copy()"
   ]
  },
  {
   "cell_type": "markdown",
   "id": "1a8f0cc4",
   "metadata": {},
   "source": [
    "### Analysis: \n",
    "#### Display a ROC curve for the test data with all your models on the same graph (tree based and regression).\n",
    "- The ROC curve with Logistics Regression Stepwise (REG_STEPWISE) has accuracy rate of 88% for both training and test dataset. The ROC curve accuracy on Regression Stepwise on test dataset it has 87% accuracy compared to simple decision tree based model has 83%. The forward stepwise used variables that trees liked. I would recommend going with Regression Stepwise model instead of tree based model which compares these two model for this particular dataset. \n",
    "\n",
    "\n",
    "#### For one of the Regression Models, print the coefficients. Do the variables make sense? If not, what would you recommend?\n",
    "- I printed the coefficients for Logistics Regression variables. All the variables mentioned below do make sense \n",
    "\n",
    "\n",
    "- TRUNC_IMP_DEBTINC  =  0.1044 (The positive value of Debt Income ratio shows more people have defaulted loans if they have higher Debt Income ratio.)\n",
    "\n",
    "\n",
    "- M_VALUE  =  3.790 (People who had missing home value which was fixed after really high chance of default loans since it home equity insurance company to trust people if their reasoning of all is Home Improvement or Consolidating debt and value of the house is missing.) \n",
    "\n",
    "- M_DEROG  =  -0.767 (If they lower deliniquencies report they less chance of having defaulted loans) \n",
    "\n",
    "\n",
    "- M_DEBTINC  =  2.751 (Similarly if the debt income ratio value is missing they have more chance of having defaulted loans.)\n",
    "\n",
    "\n",
    "- TRUNC_IMP_YOJ  =  -0.0167 (This results shows that these people have higher values in Year on Job (YOJ) which means they are more stable and assuming less riskier job the probability of having default loans decreases as results shows TRUN_IMP_YOJ value close to 0 ) \n",
    "\n",
    "\n",
    "- TRUNC_IMP_DEROG, TRUNC_IMP_DELINQ, and O_IMP_DELINQ. (These variables do make sense as we can see these variables have positive values means that they higher higher derogatory marks on credit records, and outliers in the delinquencies reports might have shown these people have defaulted loans could be because of bankruptcy. \n",
    "\n",
    "-  TRUNC_IMP_CLAGE  =  -0.0064 (Again, I would not recommend this variables based on the results its fluctuating a lot there is almost 50% percent probability of person having either default loans or not. If you have had credit for a long time, you are considered less risky than a new high school student that doesn't mean they cannot have default loans."
   ]
  },
  {
   "cell_type": "markdown",
   "id": "4bc490a3",
   "metadata": {},
   "source": [
    "### Logistics Regression ROC Curve and Accuracy for ALL Models"
   ]
  },
  {
   "cell_type": "code",
   "execution_count": 21,
   "id": "fbb0aad6",
   "metadata": {},
   "outputs": [
    {
     "data": {
      "image/png": "[encoded data removed]",
      "text/plain": [
       "<Figure size 432x288 with 1 Axes>"
      ]
     },
     "metadata": {},
     "output_type": "display_data"
    },
    {
     "name": "stdout",
     "output_type": "stream",
     "text": [
      "ALL MODELS ALL CLASSIFICATION ACCURACY\n",
      "======\n",
      "RF  =  0.9144295302013423\n",
      "GB  =  0.9035234899328859\n",
      "REG_TREE  =  0.8875838926174496\n",
      "REG_STEPWISE  =  0.8875838926174496\n",
      "REG_ALL  =  0.886744966442953\n",
      "TREE  =  0.8859060402684564\n",
      "REG_GB  =  0.8808724832214765\n",
      "REG_RF  =  0.87751677852349\n",
      "------\n",
      "\n",
      "\n"
     ]
    }
   ],
   "source": [
    "WHO = \"ALL MODELS\"\n",
    "\n",
    "#Classifier Models\n",
    "#Creating a list of all the models we have created \n",
    "ALL_CLM = [ TREE_CLM, RF_CLM, GB_CLM, REG_ALL_CLM, REG_TREE_CLM, REG_RF_CLM, REG_GB_CLM, REG_STEP_CLM ]\n",
    "\n",
    "# I am going to sort this by 4 element in the list ROC curve \n",
    "ALL_CLM = sorted( ALL_CLM, key = lambda x: x[4], reverse=True )\n",
    "print_ROC_Curve( WHO, ALL_CLM ) \n",
    "\n",
    "#Sorting is by the accuracy of the model \n",
    "ALL_CLM = sorted( ALL_CLM, key = lambda x: x[1], reverse=True )\n",
    "print_Accuracy( WHO + \" ALL CLASSIFICATION ACCURACY\", ALL_CLM )"
   ]
  },
  {
   "cell_type": "markdown",
   "id": "af1d24b6",
   "metadata": {},
   "source": [
    "### Analysis: \n",
    "#### Display a ROC curve for the test data with all your models on the same graph (tree based and regression).\n",
    "\n",
    "- Based on the ROC accuracy curve results. The random forest tree model (RF) as highest accuracy compare to all other models. Second is Gradient boosting model (GB) at 93% I have seen these model doing fine but was surprise they are better than regression tree based models. The Regression of All (REG_ALL) variables is 90% accuracy even though it has higher accuracy its uses all the variables in the dataset for predicting target variables which not efficient and time consuming. I would recommend using Regression Tree Based Models (REG_TREE) which is 88% accuracy because its faster and simpler model using less variables its fine to loss some accuracy but more efficient than REG_ALL model.\n",
    "\n",
    "\n",
    "- Based on the All Classification Accuracy we can see that Random Forest and Gradient Boosting model are on the top in terms of accuracy similar to ROC results. But Regression Tree has very small margin of higher accracy then regression all variables models which makes sense based on the reasoning mentioned above it uses less variables, not time consuming and simpler model compare to REG_ALL model. Its surprising to see ROC curve results for simple Decision Tree Based model is lowest at 83% accuracy compare all other models but has higher classification accuracy rate of 88% compare to regression (REG_GB) gradient boosting model and (REG_RF) random forest model "
   ]
  },
  {
   "cell_type": "markdown",
   "id": "d94a958c",
   "metadata": {},
   "source": [
    "## Linear Regression\n",
    "### Develop a linear regression model to determine the expected loss if the loan defaults. Use all of the variables."
   ]
  },
  {
   "cell_type": "code",
   "execution_count": 22,
   "id": "b98caed6",
   "metadata": {},
   "outputs": [
    {
     "name": "stdout",
     "output_type": "stream",
     "text": [
      "REG_ALL RMSE ACCURACY\n",
      "======\n",
      "REG_ALL_Train  =  16971.51613611921\n",
      "REG_ALL  =  16998.678121282483\n",
      "------\n",
      "\n",
      "\n"
     ]
    }
   ],
   "source": [
    "\"\"\"\n",
    "LINEAR REGRESSION ALL VARIABLES\n",
    "\"\"\"\n",
    "\n",
    "WHO = \"REG_ALL\"\n",
    "\n",
    "AMT = LinearRegression()\n",
    "AMT = AMT.fit( W_train, Z_train[TARGET_F])\n",
    "\n",
    "TRAIN_AMT = getAmtAccuracyScores( WHO + \"_Train\", AMT, W_train, Z_train[TARGET_A] )\n",
    "TEST_AMT = getAmtAccuracyScores( WHO, AMT, W_test, Z_test[TARGET_A] )\n",
    "print_Accuracy( WHO + \" RMSE ACCURACY\", [TRAIN_AMT, TEST_AMT])\n",
    "\n",
    "varNames = list (X_train.columns.values)\n",
    "\n",
    "# REG_ALL_AMT_COEF = getCoefLinear( AMT, X_train )\n",
    "REG_ALL_AMT = TEST_AMT.copy()"
   ]
  },
  {
   "cell_type": "markdown",
   "id": "103604de",
   "metadata": {},
   "source": [
    "### Analysis \n",
    "#### List the RMSE for the test data set for all of the models created (tree based and regression). \n",
    "- Since the following RMSE accuracy for linear regression using all the variables measuring the difference between values predicted by a model and their actual values for loss amount loan not repaid of 16,000 dollars seems to be a lot higher compare to tree based models. We need to have our models to be less complicated as simple as possible. But its decent to start off by using all variables in the regression model. I would only recommend using REG_ALL variables for regression model as a starting point to see the RMSE accuracy and how model behaves when we use all variables. "
   ]
  },
  {
   "cell_type": "markdown",
   "id": "c586f0b2",
   "metadata": {},
   "source": [
    "### Develop a linear regression model to determine the expected loss if the loan defaults. Use the variables that were selected by a DECISION TREE."
   ]
  },
  {
   "cell_type": "code",
   "execution_count": 23,
   "id": "2e56186d",
   "metadata": {
    "scrolled": true
   },
   "outputs": [
    {
     "name": "stdout",
     "output_type": "stream",
     "text": [
      "REG_TREE RMSE ACCURACY\n",
      "======\n",
      "REG_TREE_Train  =  4307.4749817092925\n",
      "REG_TREE  =  4301.963358361646\n",
      "------\n",
      "\n",
      "\n"
     ]
    }
   ],
   "source": [
    "WHO = \"REG_TREE\"\n",
    "\n",
    "AMT = LinearRegression()\n",
    "AMT = AMT.fit( W_train[vars_tree_amt], Z_train[TARGET_A] )\n",
    "\n",
    "TRAIN_AMT = getAmtAccuracyScores( WHO + \"_Train\", AMT, W_train[vars_tree_amt], Z_train[TARGET_A] )\n",
    "TEST_AMT = getAmtAccuracyScores( WHO, AMT, W_test[vars_tree_amt], Z_test[TARGET_A] )\n",
    "print_Accuracy( WHO + \" RMSE ACCURACY\", [ TRAIN_AMT, TEST_AMT ] )\n",
    "\n",
    "varNames = list( X_train.columns.values )\n",
    "\n",
    "\n",
    "# REG_TREE_AMT_COEF = getCoefLinear( AMT, X_train[vars_tree_amt] )\n",
    "REG_TREE_AMT = TEST_AMT.copy()\n"
   ]
  },
  {
   "cell_type": "markdown",
   "id": "93372079",
   "metadata": {},
   "source": [
    "### Analysis: \n",
    "#### List the RMSE for the test data set for all of the models created (tree based and regression).\n",
    "- The average RMSE score for loss amount not repaid with Linear Regression Decision Tree (REG_TREE) is 4301 dollars of for test dataset is much better than RMSE score for decision tree based models (TREE) is 5522 dollars there is almost 2000 dollars difference between RMSE score of each model. They both are using same variables for build models which trees liked. I would recommend going with Regression Tree instead of tree based models because its smaller loan amount not repaid to the bank assume loans defaulted for this particular dataset."
   ]
  },
  {
   "cell_type": "markdown",
   "id": "f27b1fcb",
   "metadata": {},
   "source": [
    "### Develop a linear regression model to determine the expected loss if the loan defaults. Use the variables that were selected by a RANDOM FOREST."
   ]
  },
  {
   "cell_type": "code",
   "execution_count": 24,
   "id": "9ba57988",
   "metadata": {},
   "outputs": [
    {
     "name": "stdout",
     "output_type": "stream",
     "text": [
      "\n",
      "\n",
      "\n",
      "REG_RF RMSE ACCURACY\n",
      "======\n",
      "REG_RF_Train  =  4384.862092423268\n",
      "REG_RF  =  4360.610292020044\n",
      "------\n",
      "\n",
      "\n"
     ]
    }
   ],
   "source": [
    "\"\"\"\n",
    "LINEAR REGRESSION RANDOM FOREST\n",
    "\"\"\"\n",
    "\n",
    "WHO = \"REG_RF\"\n",
    "\n",
    "print(\"\\n\\n\")\n",
    "RF_amt = []\n",
    "for i in vars_RF_amt: #We are using same variables used by Random Forest tree based model to calculate loss amount\n",
    "    # print(i)\n",
    "    theVar = i[0]\n",
    "    RF_amt.append( theVar )\n",
    "\n",
    "AMT = LinearRegression()\n",
    "AMT = AMT.fit( W_train[RF_amt], Z_train[TARGET_A])\n",
    "\n",
    "TRAIN_AMT = getAmtAccuracyScores( WHO + \"_Train\", AMT, W_train[RF_amt], Z_train[TARGET_A])\n",
    "TEST_AMT = getAmtAccuracyScores(WHO, AMT, W_test[RF_amt], Z_test[TARGET_A])\n",
    "print_Accuracy( WHO + \" RMSE ACCURACY\", [ TRAIN_AMT, TEST_AMT ] )\n",
    "\n",
    "# REG_RF_AMT_COEF = getCoefLinear( AMT, X_train[RF_amt] )\n",
    "REG_RF_AMT = TEST_AMT.copy()"
   ]
  },
  {
   "cell_type": "markdown",
   "id": "9ab4b3c2",
   "metadata": {},
   "source": [
    "### Analysis: \n",
    "#### List the RMSE for the test data set for all of the models created (tree based and regression).\n",
    "- The average RMSE score for loss amount not repaid with Linear Regression Random Forest (REG_TREE) is 4360 dollars of for test dataset is much higher than averge RMSE score for Random Forest tree based models (RF) is 2780 dollars there is almost 1500 dollars difference between RMSE score of each model. They both are using same variables for build models which Random Forest model liked. I would recommend going with Random Forest tree based model instead of Regression Random Forest model because its smaller loan amount not repaid to the bank for this particular dataset."
   ]
  },
  {
   "cell_type": "markdown",
   "id": "4f0ecbdb",
   "metadata": {},
   "source": [
    "### Develop a linear regression model to determine the expected loss if the loan defaults. Use the variables that were selected by a GRADIENT BOOSTING model."
   ]
  },
  {
   "cell_type": "code",
   "execution_count": 25,
   "id": "d25d0698",
   "metadata": {},
   "outputs": [
    {
     "name": "stdout",
     "output_type": "stream",
     "text": [
      "\n",
      "\n",
      "\n",
      "REG_GB RMSE ACCURACY\n",
      "======\n",
      "REG_GB_Train  =  4043.551329405321\n",
      "REG_GB  =  4029.7840135710135\n",
      "------\n",
      "\n",
      "\n"
     ]
    }
   ],
   "source": [
    "\"\"\"\n",
    "LINEAR REGRESSION GRADIENT BOOSTING \n",
    "\"\"\"\n",
    "\n",
    "WHO = \"REG_GB\"\n",
    "\n",
    "print(\"\\n\\n\")\n",
    "GB_amt = []\n",
    "for i in vars_GB_amt :\n",
    "    # print(i)\n",
    "    theVar = i[0]\n",
    "    GB_amt.append( theVar )\n",
    "    \n",
    "\n",
    "AMT = LinearRegression()\n",
    "AMT = AMT.fit( W_train[GB_amt], Z_train[TARGET_A] )\n",
    "\n",
    "TRAIN_AMT = getAmtAccuracyScores( WHO + \"_Train\", AMT, W_train[GB_amt], Z_train[TARGET_A] )\n",
    "TEST_AMT = getAmtAccuracyScores( WHO, AMT, W_test[GB_amt], Z_test[TARGET_A] )\n",
    "print_Accuracy( WHO + \" RMSE ACCURACY\", [ TRAIN_AMT, TEST_AMT ] )\n",
    "\n",
    "# REG_GB_AMT_COEF = getCoefLinear( AMT, X_train[GB_amt] )\n",
    "REG_GB_AMT = TEST_AMT.copy()"
   ]
  },
  {
   "cell_type": "markdown",
   "id": "1ae79413",
   "metadata": {},
   "source": [
    "### Analysis: \n",
    "#### List the RMSE for the test data set for all of the models created (tree based and regression).\n",
    "- The average RMSE score for loss amount not repaid with Linear Regression Gradient Boosting (REG_GB) is 4029 dollars of for test dataset is much higher than averge RMSE score for Random Forest tree based models (RF) is 2201 dollars there is almost 2000 dollars difference between RMSE score of each model. They both are using same variables for build models which Gradient Boosting model liked. I would recommend going with Gradient Boosting tree based model instead of Regression Gradient Boosting model because its smaller loan amount not repaid to the bank for this particular dataset."
   ]
  },
  {
   "cell_type": "markdown",
   "id": "347c15fb",
   "metadata": {},
   "source": [
    "### Develop a linear regression model to determine the expected loss if the loan defaults. Use the variables that were selected by STEPWISE SELECTION."
   ]
  },
  {
   "cell_type": "code",
   "execution_count": 26,
   "id": "7230ed03",
   "metadata": {
    "scrolled": true
   },
   "outputs": [
    {
     "data": {
      "image/png": "[encoded data removed]",
      "text/plain": [
       "<Figure size 432x288 with 1 Axes>"
      ]
     },
     "metadata": {},
     "output_type": "display_data"
    },
    {
     "name": "stdout",
     "output_type": "stream",
     "text": [
      " ................... \n",
      "argmax\n",
      "feature_names    (0, 1, 2, 3, 4)\n",
      "avg_score               0.834263\n",
      "Name: 5, dtype: object\n",
      " ................... \n",
      "('0', '1', '2', '3', '4')\n",
      "TRUNC_LOAN\n",
      "TRUNC_IMP_CLNO\n",
      "TRUNC_IMP_DEBTINC\n",
      "M_DEBTINC\n",
      "TRUNC_IMP_CLAGE\n"
     ]
    }
   ],
   "source": [
    "# Copy train data into new dataset called V_train based on the variables what Gradient Boosting liked\n",
    "# Build linear regression with best model using 1 to as many variable needed\n",
    "# This will be a little bit faster since we are using linear regression \n",
    "\n",
    "V_train = W_train[ GB_amt ]\n",
    "stepVarNames = list( V_train.columns.values )\n",
    "maxCols = V_train.shape[1]\n",
    "\n",
    "sfs = SFS( LinearRegression(),\n",
    "           k_features=( 1, maxCols),\n",
    "           forward=True,\n",
    "           floating=False,\n",
    "           scoring='r2',\n",
    "           cv=5\n",
    "         )\n",
    "\n",
    "sfs.fit(V_train.values, Z_train[ TARGET_A ].values)\n",
    "\n",
    "theFigure = plot_sfs(sfs.get_metric_dict(), kind=None )\n",
    "plt.title('Loss Amount Sequential Forward Selection (w. StdErr)')\n",
    "plt.grid()\n",
    "plt.show()\n",
    "\n",
    "dfm = pd.DataFrame.from_dict( sfs.get_metric_dict()).T\n",
    "dfm = dfm[ ['feature_names', 'avg_score'] ]\n",
    "dfm.avg_score = dfm.avg_score.astype(float)\n",
    "\n",
    "print(\" ................... \")\n",
    "maxIndex = dfm.avg_score.argmax()\n",
    "print(\"argmax\")\n",
    "print( dfm.iloc[ maxIndex, ] )\n",
    "print(\" ................... \")\n",
    "\n",
    "stepVars = dfm.iloc[ maxIndex, ]\n",
    "stepVars = stepVars.feature_names\n",
    "print( stepVars )\n",
    "\n",
    "finalStepVars = []\n",
    "for i in stepVars :\n",
    "    index = int(i)\n",
    "    try :\n",
    "        theName = stepVarNames[ index ]\n",
    "        finalStepVars.append( theName )\n",
    "    except :\n",
    "        pass\n",
    "\n",
    "for i in finalStepVars :\n",
    "    print(i)\n",
    "\n",
    "V_train = W_train[ finalStepVars ]\n",
    "V_test = W_test[ finalStepVars ]\n",
    "            "
   ]
  },
  {
   "cell_type": "code",
   "execution_count": 27,
   "id": "72c25f4c",
   "metadata": {},
   "outputs": [
    {
     "name": "stdout",
     "output_type": "stream",
     "text": [
      "REG_STEPWISE RMSE ACCURACY\n",
      "======\n",
      "REG_STEPWISE_Train  =  4043.551329405321\n",
      "REG_STEPWISE  =  4029.7840135710135\n",
      "------\n",
      "\n",
      "\n",
      "\n",
      "LOSS AMOUNT\n",
      "---------\n",
      "Total Variables:  6\n",
      "INTERCEPT  =  -12990.102898292584\n",
      "TRUNC_LOAN  =  0.7811032153671928\n",
      "TRUNC_IMP_CLNO  =  296.780759504102\n",
      "TRUNC_IMP_DEBTINC  =  193.84552770224016\n",
      "M_DEBTINC  =  5766.133642473953\n",
      "TRUNC_IMP_CLAGE  =  -25.06345014576534\n"
     ]
    }
   ],
   "source": [
    "\"\"\"\n",
    "LINEAR REGRESSION STEPWISE\n",
    "\"\"\"\n",
    "\n",
    "WHO = \"REG_STEPWISE\"\n",
    "\n",
    "AMT = LinearRegression()\n",
    "AMT = AMT.fit( V_train, Z_train[TARGET_A] )\n",
    "\n",
    "TRAIN_AMT = getAmtAccuracyScores( WHO + \"_Train\", AMT, V_train, Z_train[TARGET_A] )\n",
    "TEST_AMT = getAmtAccuracyScores( WHO, AMT, V_test, Z_test[TARGET_A] )\n",
    "print_Accuracy( WHO + \" RMSE ACCURACY\", [ TRAIN_AMT, TEST_AMT ] )\n",
    "\n",
    "\n",
    "REG_STEP_AMT_COEF = getCoefLinear( AMT, V_train )\n",
    "\n",
    "REG_STEP_AMT = TEST_AMT.copy()\n"
   ]
  },
  {
   "cell_type": "markdown",
   "id": "9b42b367",
   "metadata": {},
   "source": [
    "### Analysis: \n",
    "#### List the RMSE for the test data set for all of the models created (tree based and regression). \n",
    "- The average RMSE score for loss amount not repaid with Linear Regression Stepwise Function (REG_STEPWISE) is 4029 dollars using test dataset is much higher than averge RMSE score for Gradient Boosting tree based models (GB) is 2201 dollars there is almost 2000 dollars difference between RMSE score of each model. They both are using same variables for build models which Gradient Boosting model liked. I would recommend going with Gradient Boosting tree based model instead of Regression Stepwise model because its smaller loan amount not repaid to the bank for this particular dataset. Also, Regression Stepwise would be larger and less efficient in terms of variables selection technqiue than Gradient Boosting model for this dataset.\n",
    "\n",
    "\n",
    "#### For one of the Regression Models, print the coefficients. Do the variables make sense? If not, what would you recommend?\n",
    "- I printed the coefficients for Linear Regression variables Step wise function. All the variables mentioned below do make sense.\n",
    "\n",
    "\n",
    "- TRUNC_LOAN  =  0.7811 (The positive value of LOAN amounts shows more people have higher amount of loan not repaid if they have bigger amount more risky the person which makes sense based on the criteria.)\n",
    "\n",
    "\n",
    "- TRUNC_IMP_CLNO  =  296.78 (Showing a really positive value means a lot of people have higher number of credit lines, and this variables could have gone either scenario either person is more trustworthy. But in our case based on the model a too many credit lines means that they have potential to run up a lot of debt causing higher loss amount not repaid to the bank) \n",
    "\n",
    "- TRUNC_IMP_DEBTINC  =  193.84 (The higher Debt Income Ratio means that people are loss amount increase if person has higher Debt Income Ratio) \n",
    "\n",
    "\n",
    "- M_DEBTINC  =  5766 (Similarly if the debt income ratio value is missing which was fixed have higher loans amounts because they are trustworthy compare to imputated debtinc ratio kind of doesn't make sense.)\n",
    "\n",
    "\n",
    "- TRUNC_IMP_CLAGE  =  -25.06 (In our dataset looks like most of people had credit for a long time, considered less risky showing smaller amount of loan not repaid ) \n"
   ]
  },
  {
   "cell_type": "markdown",
   "id": "11864806",
   "metadata": {},
   "source": [
    "### Linear Regression RMSE Accuracy for ALL Models"
   ]
  },
  {
   "cell_type": "code",
   "execution_count": 28,
   "id": "8262c614",
   "metadata": {},
   "outputs": [
    {
     "name": "stdout",
     "output_type": "stream",
     "text": [
      "ALL LOSS AMOUNT MODEL ACCURACY\n",
      "======\n",
      "GB  =  2201.8194437335387\n",
      "RF  =  2780.278461970596\n",
      "REG_GB  =  4029.7840135710135\n",
      "REG_STEPWISE  =  4029.7840135710135\n",
      "REG_TREE  =  4301.963358361646\n",
      "REG_RF  =  4360.610292020044\n",
      "TREE  =  5522.483680969053\n",
      "REG_ALL  =  16998.678121282483\n",
      "------\n",
      "\n",
      "\n"
     ]
    }
   ],
   "source": [
    "#Linear Regression Models\n",
    "#Creating a list of all the models we have created \n",
    "ALL_AMT = [ TREE_AMT, RF_AMT, GB_AMT, REG_ALL_AMT, REG_TREE_AMT, REG_RF_AMT, REG_GB_AMT, REG_STEP_AMT]\n",
    "\n",
    "#Sort by Accuracy of the Damages \n",
    "ALL_AMT = sorted( ALL_AMT, key = lambda x: x[1] )\n",
    "\n",
    "print_Accuracy( \"ALL LOSS AMOUNT MODEL ACCURACY\", ALL_AMT )"
   ]
  },
  {
   "cell_type": "markdown",
   "id": "f03686c9",
   "metadata": {},
   "source": [
    "### Analysis: \n",
    "#### List the RMSE for the test data set for all of the models created (tree based and regression).\n",
    "\n",
    "- Based on the RMSE accuracy curve results measuring the difference between values predicted by a model and their actual values for loss amount loan Gradient Boosting tree model (GB) as lowest average RMSE score of 2201 dollars loss amount not repaid compare to all other models. Second is Random Forest model (RF) with Root Mean Square error of 2780 dollars loss amount.  I have seen these model doing fine but was surprise they are better than regression based models. The Regression of All (REG_ALL) variables is larger difference in terms of RMSE accuracy of 16000 dollars perfomed really bad was surprising even though used all the variables in the dataset for predicting target variables which not efficient and time consuming. Based on the All Loss Model Accuracy we can that Gradient Boosting and Random Forest model are on the top in terms of accuracy as they have closer range of RMSE scores.\n"
   ]
  },
  {
   "cell_type": "markdown",
   "id": "178d9136",
   "metadata": {},
   "source": [
    "## Summary Report\n",
    "\n",
    "#### Include a discussion of the which models were most accurate, and which ones would you recommend using in a real world situation.\n",
    "- The random forest tree model (RF) considerably more accurate with 96% covering area under the curve compare to all other models. Second is Gradient boosting model (GB) is at 93% accuracy is a little bit closer to Gradient Boosting showing ensemble appoarch has worked surprisingly better than regression based models in predicting loans defaults.   I would recommend using Tree Based to start off simple understanding how the input variables is having an effect on predicting target variables. And the REG_ALL variables model for regression model as a starting point as well to see the accuracy and how model behaves when we use all variables for real world situation.\n",
    "\n",
    "\n",
    "#### If you were to select one of these models to put into production, which would it be? Why would you select this model?\n",
    "- I would Random Forest tree based model to put into production for this dataset to predict both default loans and loss amount if loan was not repaid. The reason for selecting this model based onf ROC curve and RMSE accuracy results for Random Forest and Gradient was almost similar high accuracy compare to other models. My second choice would have been Gradient Boosting because as int tends to build very shallow trees but we have to look at is it legal to use based business rules before deploying in production\n",
    "\n",
    "\n",
    "\n",
    "\n",
    "### Logistics Regression \n",
    "####  Display a ROC curve for the test data with all your models on the same graph (tree based and regression).\n",
    "\n",
    "#### I have compared ROC curve accuracy results between both Logistics Regression and tree based after each models under  analysis section. \n",
    "\n",
    "- Display a ROC curve for the test data with all your models on the same graph (tree based and regression).\n",
    "Based on the ROC accuracy curve results random forest tree model (RF) as highest accuracy compare to all other models. Second is Gradient boosting model (GB) at 93% I have seen these model doing fine but was surprise they are better than regression tree based models. The Regression of All (REG_ALL) variables is 90% accuracy even though it has higher accuracy its uses all the variables in the dataset for predicting target variables which not efficient and time consuming. I would recommend using Regression Tree Based Models (REG_TREE) which is 88% accuracy because its faster and simpler model using less variables its fine to loss some accuracy but more efficient than REG_ALL model.\n",
    "\n",
    "- Based on the All Classification Accuracy we can see that Random Forest and Gradient Boosting model are on the top in terms of accuracy similar to ROC results. But Regression Tree has very small margin of higher accracy then regression all variables models which makes sense based on the reasoning mentioned above it uses less variables, not time consuming and simpler model compare to REG_ALL model. Its surprising to see ROC curve results for simple Decision Tree Based model is lowest at 83% accuracy compare all other models but has higher classification accuracy rate of 88% compare to regression (REG_GB) gradient boosting model and (REG_RF) random forest model. \n",
    "\n"
   ]
  },
  {
   "cell_type": "markdown",
   "id": "d0f58678",
   "metadata": {},
   "source": [
    "#### For one of the Regression Models, print the coefficients. Do the variables make sense? If not, what would you recommend?\n",
    "- I printed the coefficients variables for Stepwise selection logistics regression model. All the variables mentioned below do make sense \n",
    "\n",
    "\n",
    "- TRUNC_IMP_DEBTINC  =  0.1044 (The positive value of Debt Income ratio shows more people have defaulted loans if they have higher Debt Income ratio.)\n",
    "\n",
    "\n",
    "- M_VALUE  =  3.790 (People who had missing home value which was fixed after really high chance of default loans since it home equity insurance company to trust people if their reasoning of all is Home Improvement or Consolidating debt and value of the house is missing.) \n",
    "\n",
    "- M_DEROG  =  -0.767 (If they lower deliniquencies report they less chance of having defaulted loans) \n",
    "\n",
    "\n",
    "- M_DEBTINC  =  2.751 (Similarly if the debt income ratio value is missing they have more chance of having defaulted loans.)\n",
    "\n",
    "\n",
    "- TRUNC_IMP_YOJ  =  -0.0167 (This results shows that these people have higher values in Year on Job (YOJ) which means they are more stable and assuming less riskier job the probability of having default loans decreases as results shows TRUN_IMP_YOJ value close to 0 ) \n",
    "\n",
    "\n",
    "- TRUNC_IMP_DEROG, TRUNC_IMP_DELINQ, and O_IMP_DELINQ. (These variables do make sense as we can see these variables have positive values means that they higher higher derogatory marks on credit records, and outliers in the delinquencies reports might have shown these people have defaulted loans could be because of bankruptcy. \n",
    "\n",
    "-  TRUNC_IMP_CLAGE  =  -0.0064 (Again, I would not recommend this variables based on the results its fluctuating a lot there is almost 50% percent probability of person having either default loans or not. If you have had credit for a long time, you are considered less risky than a new high school student that doesn't mean they cannot have default loans.\n"
   ]
  },
  {
   "cell_type": "markdown",
   "id": "02965021",
   "metadata": {},
   "source": [
    "### Linear Regression \n",
    "#### List the RMSE for the test data set for all of the models created (tree based and regression). \n",
    "#### I have compared RMSE accuracy results between both Linear Regression and tree based after each models under analysis section.\n",
    "\n",
    "#### List the RMSE for the test data set for all of the models created (tree based and regression).\n",
    "\n",
    "- Based on the RMSE accuracy curve results measuring the difference between values predicted by a model and their actual values for loss amount loan Gradient Boosting tree model (GB) as lowest average RMSE score of 2201 dollars loss amount not repaid compare to all other models. Second is Random Forest model (RF) with Root Mean Square error of 2780 dollars loss amount.  I have seen these model doing fine but was surprise they are better than regression based models. The Regression of All (REG_ALL) variables is larger difference in terms of RMSE accuracy of 16000 dollars perfomed really bad was surprising even though used all the variables in the dataset for predicting target variables which not efficient and time consuming. Based on the All Loss Model Accuracy we can that Gradient Boosting and Random Forest model are on the top in terms of accuracy as they have closer range of RMSE scores.\n",
    "\n",
    "#### For one of the Regression Models, print the coefficients. Do the variables make sense? If not, what would you recommend?\n",
    "- I printed the coefficients for Stepwise selection Linear Regression model. All the variables mentioned below do make sense.\n",
    "\n",
    "\n",
    "- TRUNC_LOAN  =  0.7811 (The positive value of LOAN amounts shows more people have higher amount of loan not repaid if they have bigger amount more risky the person which makes sense based on the criteria.)\n",
    "\n",
    "\n",
    "- TRUNC_IMP_CLNO  =  296.78 (Showing a really positive value means a lot of people have higher number of credit lines, and this variables could have gone either scenario either person is more trustworthy. But in our case based on the model a too many credit lines means that they have potential to run up a lot of debt causing higher loss amount not repaid to the bank) \n",
    "\n",
    "- TRUNC_IMP_DEBTINC  =  193.84 (The higher Debt Income Ratio means that people are loss amount increase if person has higher Debt Income Ratio) \n",
    "\n",
    "\n",
    "- M_DEBTINC  =  5766 (Similarly if the debt income ratio value is missing which was fixed have higher loans amounts because they are trustworthy compare to imputated debtinc ratio kind of doesn't make sense.)\n",
    "\n",
    "\n",
    "- TRUNC_IMP_CLAGE  =  -25.06 (In our dataset looks like most of people had credit for a long time, considered less risky showing smaller amount of loan not repaid )"
   ]
  },
  {
   "cell_type": "markdown",
   "id": "0c7f9c1e",
   "metadata": {},
   "source": [
    "### BINGO BONUS ON NEXT PAGE\n",
    "\n",
    "### Suggestions: Explore different parameters for the Logistic and Linear Regression models. Briefly discuss whether or not they had an effect on results\n",
    "### Logistics Regression, we will be trying different 'solver' parameters to see how they affect the results."
   ]
  },
  {
   "cell_type": "code",
   "execution_count": null,
   "id": "ca5469c9",
   "metadata": {},
   "outputs": [],
   "source": []
  }
 ],
 "metadata": {
  "kernelspec": {
   "display_name": "Python 3",
   "language": "python",
   "name": "python3"
  },
  "language_info": {
   "codemirror_mode": {
    "name": "ipython",
    "version": 3
   },
   "file_extension": ".py",
   "mimetype": "text/x-python",
   "name": "python",
   "nbconvert_exporter": "python",
   "pygments_lexer": "ipython3",
   "version": "3.8.10"
  }
 },
 "nbformat": 4,
 "nbformat_minor": 5
}
